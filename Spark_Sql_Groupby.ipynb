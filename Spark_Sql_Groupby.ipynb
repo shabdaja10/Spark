{
  "nbformat": 4,
  "nbformat_minor": 0,
  "metadata": {
    "colab": {
      "provenance": []
    },
    "kernelspec": {
      "name": "python3",
      "display_name": "Python 3"
    },
    "language_info": {
      "name": "python"
    }
  },
  "cells": [
    {
      "cell_type": "code",
      "source": [
        "#initiate spark\n",
        "import pyspark\n",
        "from pyspark import SparkContext, SparkConf\n",
        "from pyspark.sql import SparkSession\n",
        "c = pyspark.SparkConf().setAppName(\"test_app\").setMaster(\"local\")\n",
        "sc = pyspark.SparkContext(conf = c)\n",
        "spark = SparkSession(sc)"
      ],
      "metadata": {
        "id": "sg2UJdrz6Wo7"
      },
      "execution_count": 2,
      "outputs": []
    },
    {
      "cell_type": "code",
      "source": [
        "from pyspark.sql.functions import *"
      ],
      "metadata": {
        "id": "zCV1M4586WsZ"
      },
      "execution_count": 3,
      "outputs": []
    },
    {
      "cell_type": "code",
      "source": [
        "data = spark.read.csv(\"/content/Sample - Superstore.csv\", header = True, inferSchema = True, escape='\"')"
      ],
      "metadata": {
        "id": "0iG0LNr46Wvj"
      },
      "execution_count": 9,
      "outputs": []
    },
    {
      "cell_type": "code",
      "source": [
        "data.createOrReplaceTempView(\"superstore_tb\")"
      ],
      "metadata": {
        "id": "SMKRfYGw7f1e"
      },
      "execution_count": 10,
      "outputs": []
    },
    {
      "cell_type": "code",
      "source": [
        "data.printSchema()"
      ],
      "metadata": {
        "colab": {
          "base_uri": "https://localhost:8080/",
          "height": 0
        },
        "id": "bSARAkyWFJhD",
        "outputId": "5788f3a1-9db6-4a7d-d4e8-ef6cd148538d"
      },
      "execution_count": 16,
      "outputs": [
        {
          "output_type": "stream",
          "name": "stdout",
          "text": [
            "root\n",
            " |-- Row ID: integer (nullable = true)\n",
            " |-- Order ID: string (nullable = true)\n",
            " |-- Order Date: string (nullable = true)\n",
            " |-- Ship Date: string (nullable = true)\n",
            " |-- Ship Mode: string (nullable = true)\n",
            " |-- Customer ID: string (nullable = true)\n",
            " |-- Customer Name: string (nullable = true)\n",
            " |-- Segment: string (nullable = true)\n",
            " |-- Country/Region: string (nullable = true)\n",
            " |-- City: string (nullable = true)\n",
            " |-- State: string (nullable = true)\n",
            " |-- Postal Code: integer (nullable = true)\n",
            " |-- Region: string (nullable = true)\n",
            " |-- Product ID: string (nullable = true)\n",
            " |-- Category: string (nullable = true)\n",
            " |-- Sub-Category: string (nullable = true)\n",
            " |-- Product Name: string (nullable = true)\n",
            " |-- Sales: double (nullable = true)\n",
            " |-- Quantity: integer (nullable = true)\n",
            " |-- Discount: double (nullable = true)\n",
            " |-- Profit: double (nullable = true)\n",
            "\n"
          ]
        }
      ]
    },
    {
      "cell_type": "code",
      "source": [
        "spark.sql(\"\"\"\n",
        "    SELECT\n",
        "        Category,\n",
        "        SUM(Sales) AS Total_Sales,\n",
        "        SUM(Profit) AS Total_Profit,\n",
        "        AVG(Quantity) AS Avg_Quantity\n",
        "    FROM superstore_tb\n",
        "    WHERE Category = 'Technology'\n",
        "    GROUP BY Category\n",
        "    ORDER BY Total_Sales DESC\n",
        "\"\"\").show()"
      ],
      "metadata": {
        "colab": {
          "base_uri": "https://localhost:8080/",
          "height": 0
        },
        "id": "Uk5feh6dD4Pj",
        "outputId": "fb642fed-3383-46f5-d3c6-039d04601b5b"
      },
      "execution_count": 22,
      "outputs": [
        {
          "output_type": "stream",
          "name": "stdout",
          "text": [
            "+----------+-----------------+------------------+-----------------+\n",
            "|  Category|      Total_Sales|      Total_Profit|     Avg_Quantity|\n",
            "+----------+-----------------+------------------+-----------------+\n",
            "|Technology|836154.0329999941|145454.94810000007|3.756903086085544|\n",
            "+----------+-----------------+------------------+-----------------+\n",
            "\n"
          ]
        }
      ]
    },
    {
      "cell_type": "code",
      "source": [
        "spark.sql(\"\"\"\n",
        "    SELECT\n",
        "        Category,\n",
        "        `Sub-Category`,\n",
        "        SUM(Sales) AS Total_Sales,\n",
        "        SUM(Profit) AS Total_Profit,\n",
        "        AVG(Quantity) AS Avg_Quantity\n",
        "    FROM superstore_tb\n",
        "    WHERE Category = 'Technology'\n",
        "    GROUP BY Category, `Sub-Category`\n",
        "    HAVING Avg_Quantity > 3.5\n",
        "    ORDER BY Total_Sales DESC\n",
        "\"\"\").show()"
      ],
      "metadata": {
        "colab": {
          "base_uri": "https://localhost:8080/",
          "height": 0
        },
        "id": "H9gnUnUQL7Pk",
        "outputId": "e317438c-16ad-4aa3-ac14-d44880cbdfb4"
      },
      "execution_count": 23,
      "outputs": [
        {
          "output_type": "stream",
          "name": "stdout",
          "text": [
            "+----------+------------+------------------+-----------------+------------------+\n",
            "|  Category|Sub-Category|       Total_Sales|     Total_Profit|      Avg_Quantity|\n",
            "+----------+------------+------------------+-----------------+------------------+\n",
            "|Technology|      Phones| 330007.0539999992|44515.73059999997| 3.699662542182227|\n",
            "|Technology|    Machines|189238.63100000005|        3384.7569|3.8260869565217392|\n",
            "|Technology| Accessories|167380.31800000006|41936.63569999997|              3.84|\n",
            "+----------+------------+------------------+-----------------+------------------+\n",
            "\n"
          ]
        }
      ]
    },
    {
      "cell_type": "code",
      "source": [],
      "metadata": {
        "id": "a2uKrmmIRfGH"
      },
      "execution_count": null,
      "outputs": []
    }
  ]
}